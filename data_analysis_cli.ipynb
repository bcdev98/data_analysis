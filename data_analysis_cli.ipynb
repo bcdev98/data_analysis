{
 "cells": [
  {
   "cell_type": "markdown",
   "metadata": {},
   "source": [
    "## Data Structure\n",
    "- List, Dictionary, Tuple and Set\n",
    "\n",
    "### List"
   ]
  },
  {
   "cell_type": "code",
   "execution_count": 1,
   "metadata": {},
   "outputs": [
    {
     "name": "stdout",
     "output_type": "stream",
     "text": [
      "[]\n"
     ]
    }
   ],
   "source": [
    "# create an empty list\n",
    "myList = []\n",
    "print(myList)"
   ]
  },
  {
   "cell_type": "code",
   "execution_count": 2,
   "metadata": {},
   "outputs": [
    {
     "name": "stdout",
     "output_type": "stream",
     "text": [
      "['F', 'AAPL']\n"
     ]
    }
   ],
   "source": [
    "myList2 = ['F', 'AAPL']\n",
    "print(myList2)"
   ]
  },
  {
   "cell_type": "code",
   "execution_count": 3,
   "metadata": {},
   "outputs": [
    {
     "name": "stdout",
     "output_type": "stream",
     "text": [
      "['F', 'AAPL', 'GOOG']\n"
     ]
    }
   ],
   "source": [
    "myList2.append('GOOG')\n",
    "print(myList2)"
   ]
  },
  {
   "cell_type": "code",
   "execution_count": 5,
   "metadata": {},
   "outputs": [
    {
     "name": "stdout",
     "output_type": "stream",
     "text": [
      "['F', 'QCOM', 'AAPL', 'GOOG']\n"
     ]
    }
   ],
   "source": [
    "myList2.insert(1, 'QCOM')\n",
    "print(myList2)"
   ]
  },
  {
   "cell_type": "code",
   "execution_count": 6,
   "metadata": {},
   "outputs": [
    {
     "name": "stdout",
     "output_type": "stream",
     "text": [
      "['AAPL', 'F', 'GOOG', 'QCOM']\n"
     ]
    }
   ],
   "source": [
    "x = sorted(myList2)\n",
    "print(x)"
   ]
  },
  {
   "cell_type": "code",
   "execution_count": 7,
   "metadata": {},
   "outputs": [
    {
     "name": "stdout",
     "output_type": "stream",
     "text": [
      "Not Found\n"
     ]
    }
   ],
   "source": [
    "# test membership\n",
    "if \"GM\" in myList2:\n",
    "    print(\"Found\")\n",
    "else:\n",
    "    print(\"Not Found\")"
   ]
  },
  {
   "cell_type": "code",
   "execution_count": 8,
   "metadata": {},
   "outputs": [
    {
     "name": "stdout",
     "output_type": "stream",
     "text": [
      "True\n"
     ]
    }
   ],
   "source": [
    "if \"GM\" not in myList2:\n",
    "    print(\"True\")"
   ]
  },
  {
   "cell_type": "markdown",
   "metadata": {},
   "source": [
    "### Programming Task\n",
    "- write a program to read in IEX AAPL 1Y data file \n",
    "- find dates which AAPL stock price change over 2%\n",
    "- store these data in a list"
   ]
  },
  {
   "cell_type": "markdown",
   "metadata": {},
   "source": [
    "### Dictionary\n",
    "- Key value pairs\n",
    "- Assignment or updating\n",
    "- Membership (in, not in)\n",
    "- Delete items\n",
    "- Iterating (key, values)\n",
    "- Constant time lookup\n",
    "- join two different data sources"
   ]
  },
  {
   "cell_type": "code",
   "execution_count": 10,
   "metadata": {},
   "outputs": [
    {
     "name": "stdout",
     "output_type": "stream",
     "text": [
      "{}\n"
     ]
    }
   ],
   "source": [
    "# create an empty dictionary\n",
    "myd = {}\n",
    "print(myd)"
   ]
  },
  {
   "cell_type": "code",
   "execution_count": 11,
   "metadata": {},
   "outputs": [
    {
     "name": "stdout",
     "output_type": "stream",
     "text": [
      "{'ABC': 'Company ABC', 'XYZ': 'Company XYZ', 'ZZZ': 'Compnay ZZZ'}\n"
     ]
    }
   ],
   "source": [
    "myd['ABC'] = 'Company ABC'\n",
    "myd['XYZ'] = 'Company XYZ'\n",
    "myd['ZZZ'] = 'Compnay ZZZ'\n",
    "print(myd)"
   ]
  },
  {
   "cell_type": "code",
   "execution_count": 14,
   "metadata": {},
   "outputs": [
    {
     "name": "stdout",
     "output_type": "stream",
     "text": [
      "{'ABC': 'Company ABC', 'XYZ': 'Company XYZ'}\n"
     ]
    }
   ],
   "source": [
    "del myd['ZZZ']\n",
    "print(myd)"
   ]
  },
  {
   "cell_type": "code",
   "execution_count": 15,
   "metadata": {},
   "outputs": [
    {
     "name": "stdout",
     "output_type": "stream",
     "text": [
      "{'ABC': 'Company ABC', 'XYZ': 'Updated Company XYZ'}\n"
     ]
    }
   ],
   "source": [
    "myd['XYZ'] = 'Updated Company XYZ'\n",
    "print(myd)"
   ]
  },
  {
   "cell_type": "code",
   "execution_count": 16,
   "metadata": {},
   "outputs": [
    {
     "name": "stdout",
     "output_type": "stream",
     "text": [
      "True\n"
     ]
    }
   ],
   "source": [
    "if 'XYZ' in myd:\n",
    "    print(\"True\")"
   ]
  },
  {
   "cell_type": "code",
   "execution_count": 17,
   "metadata": {},
   "outputs": [
    {
     "name": "stdout",
     "output_type": "stream",
     "text": [
      "False\n"
     ]
    }
   ],
   "source": [
    "print (\"ABC\" not in myd.keys())"
   ]
  },
  {
   "cell_type": "code",
   "execution_count": 18,
   "metadata": {},
   "outputs": [
    {
     "name": "stdout",
     "output_type": "stream",
     "text": [
      "False\n"
     ]
    }
   ],
   "source": [
    "print(\"Company V\" in myd.values())"
   ]
  },
  {
   "cell_type": "code",
   "execution_count": 19,
   "metadata": {},
   "outputs": [
    {
     "name": "stdout",
     "output_type": "stream",
     "text": [
      "ABC\n",
      "XYZ\n"
     ]
    }
   ],
   "source": [
    "# iterate dictonary's key\n",
    "for x in myd.keys():\n",
    "    print(x)"
   ]
  },
  {
   "cell_type": "code",
   "execution_count": 20,
   "metadata": {},
   "outputs": [
    {
     "name": "stdout",
     "output_type": "stream",
     "text": [
      "Company ABC\n",
      "Updated Company XYZ\n"
     ]
    }
   ],
   "source": [
    "for x in myd.values():\n",
    "    print(x)"
   ]
  },
  {
   "cell_type": "markdown",
   "metadata": {},
   "source": [
    "### Download NASDAQ data\n",
    "http://www.nasdaq.com/screening/company-list.aspx"
   ]
  },
  {
   "cell_type": "markdown",
   "metadata": {},
   "source": [
    "### Tuples\n",
    "- Immutable\n",
    "- Common use - fields in database\n",
    "- Access by positions (starting with zero)\n",
    "- Functions (len, max, min, splice)\n",
    "- Membership (in, not in)"
   ]
  },
  {
   "cell_type": "code",
   "execution_count": 21,
   "metadata": {},
   "outputs": [
    {
     "name": "stdout",
     "output_type": "stream",
     "text": [
      "('ABC', 'Company ABC', 90.25)\n"
     ]
    }
   ],
   "source": [
    "myTup1 = ('ABC', 'Company ABC', 90.25)\n",
    "myTup2 = ('XYZ', 'Corporation XYZ', 20.84)\n",
    "myTup3 = ('ZZZ', 'Better Sleep Company', 7.32)\n",
    "print(myTup1)"
   ]
  },
  {
   "cell_type": "code",
   "execution_count": 22,
   "metadata": {},
   "outputs": [
    {
     "name": "stdout",
     "output_type": "stream",
     "text": [
      "XYZ\n"
     ]
    }
   ],
   "source": [
    "print(myTup2[0])"
   ]
  },
  {
   "cell_type": "code",
   "execution_count": 23,
   "metadata": {},
   "outputs": [
    {
     "name": "stdout",
     "output_type": "stream",
     "text": [
      "('ZZZ',)\n"
     ]
    }
   ],
   "source": [
    "print(myTup3[0:1])"
   ]
  },
  {
   "cell_type": "code",
   "execution_count": 24,
   "metadata": {},
   "outputs": [
    {
     "name": "stdout",
     "output_type": "stream",
     "text": [
      "('ZZZ', 'Better Sleep Company')\n"
     ]
    }
   ],
   "source": [
    "print(myTup3[0:2])"
   ]
  },
  {
   "cell_type": "code",
   "execution_count": 25,
   "metadata": {},
   "outputs": [
    {
     "name": "stdout",
     "output_type": "stream",
     "text": [
      "3\n"
     ]
    }
   ],
   "source": [
    "print(len(myTup2))"
   ]
  },
  {
   "cell_type": "code",
   "execution_count": 26,
   "metadata": {},
   "outputs": [
    {
     "name": "stdout",
     "output_type": "stream",
     "text": [
      "-2\n"
     ]
    }
   ],
   "source": [
    "myNum = (1, 4, 5.7, 9, -2)\n",
    "print(min(myNum))"
   ]
  },
  {
   "cell_type": "code",
   "execution_count": 27,
   "metadata": {},
   "outputs": [
    {
     "name": "stdout",
     "output_type": "stream",
     "text": [
      "False\n"
     ]
    }
   ],
   "source": [
    "print (7 in myNum)"
   ]
  },
  {
   "cell_type": "code",
   "execution_count": 28,
   "metadata": {},
   "outputs": [],
   "source": [
    "# create a list of tuples\n",
    "myList = []\n",
    "myList.append(myTup1)\n",
    "myList.append(myTup2)\n",
    "myList.append(myTup3)"
   ]
  },
  {
   "cell_type": "code",
   "execution_count": 29,
   "metadata": {},
   "outputs": [
    {
     "name": "stdout",
     "output_type": "stream",
     "text": [
      "[('ABC', 'Company ABC', 90.25), ('XYZ', 'Corporation XYZ', 20.84), ('ZZZ', 'Better Sleep Company', 7.32)]\n"
     ]
    }
   ],
   "source": [
    "print(myList)"
   ]
  },
  {
   "cell_type": "code",
   "execution_count": 30,
   "metadata": {},
   "outputs": [
    {
     "name": "stdout",
     "output_type": "stream",
     "text": [
      "('ABC', 'Company ABC', 90.25)\n",
      "90.25\n",
      "('XYZ', 'Corporation XYZ', 20.84)\n",
      "20.84\n",
      "('ZZZ', 'Better Sleep Company', 7.32)\n",
      "7.32\n"
     ]
    }
   ],
   "source": [
    "for x in myList:\n",
    "    print(x)\n",
    "    print(x[2])"
   ]
  },
  {
   "cell_type": "markdown",
   "metadata": {},
   "source": [
    "### Program Task\n",
    "- Read in aapl stock file \n",
    "- Build a dictionary using symbol and date as key, and stock closing price as value\n"
   ]
  },
  {
   "cell_type": "markdown",
   "metadata": {},
   "source": [
    "### Set\n",
    "- set()\n",
    "- add/discard\n",
    "- update\n",
    "- union / intersection\n",
    "- in / not in\n",
    "- unique membership"
   ]
  },
  {
   "cell_type": "code",
   "execution_count": 31,
   "metadata": {},
   "outputs": [],
   "source": [
    "s1 = set()\n",
    "s1.add(1)\n",
    "s1.update([1, 2, 3])"
   ]
  },
  {
   "cell_type": "code",
   "execution_count": 32,
   "metadata": {},
   "outputs": [
    {
     "name": "stdout",
     "output_type": "stream",
     "text": [
      "{1, 2, 3}\n"
     ]
    }
   ],
   "source": [
    "print(s1)"
   ]
  },
  {
   "cell_type": "code",
   "execution_count": 33,
   "metadata": {},
   "outputs": [
    {
     "name": "stdout",
     "output_type": "stream",
     "text": [
      "{1, 2, 3, 4}\n"
     ]
    }
   ],
   "source": [
    "s1.add(4)\n",
    "print(s1)"
   ]
  },
  {
   "cell_type": "code",
   "execution_count": 34,
   "metadata": {},
   "outputs": [],
   "source": [
    "s2 = set([4,5,6])"
   ]
  },
  {
   "cell_type": "code",
   "execution_count": 35,
   "metadata": {},
   "outputs": [
    {
     "data": {
      "text/plain": [
       "{1, 2, 3, 4, 5, 6}"
      ]
     },
     "execution_count": 35,
     "metadata": {},
     "output_type": "execute_result"
    }
   ],
   "source": [
    "s1.union(s2)"
   ]
  },
  {
   "cell_type": "code",
   "execution_count": 37,
   "metadata": {},
   "outputs": [
    {
     "data": {
      "text/plain": [
       "{4}"
      ]
     },
     "execution_count": 37,
     "metadata": {},
     "output_type": "execute_result"
    }
   ],
   "source": [
    "s1.intersection(s2)"
   ]
  },
  {
   "cell_type": "code",
   "execution_count": 39,
   "metadata": {},
   "outputs": [
    {
     "data": {
      "text/plain": [
       "False"
      ]
     },
     "execution_count": 39,
     "metadata": {},
     "output_type": "execute_result"
    }
   ],
   "source": [
    "7 in s1"
   ]
  },
  {
   "cell_type": "code",
   "execution_count": 40,
   "metadata": {},
   "outputs": [],
   "source": [
    "watchList = ['MSFT', 'AAPL', 'QCOM']\n",
    "openPos = [('AAPL', 100.0, 100), ('F', 8.35, 100), ('DIS', 87.35, 100)] # (sym, buy, sh)\n",
    "closedPos = [('MSFT', 25.5, 32.65, 100), ('INTC', 35.35, 27.89, 100)] #(sym, buy, sell, sh)"
   ]
  },
  {
   "cell_type": "code",
   "execution_count": 41,
   "metadata": {},
   "outputs": [
    {
     "name": "stdout",
     "output_type": "stream",
     "text": [
      "{'QCOM', 'MSFT', 'AAPL'}\n"
     ]
    }
   ],
   "source": [
    "myStocks = set()\n",
    "for x in watchList:\n",
    "    myStocks.add(x)\n",
    "print(myStocks)"
   ]
  },
  {
   "cell_type": "code",
   "execution_count": 42,
   "metadata": {},
   "outputs": [],
   "source": [
    "for x in openPos:\n",
    "    myStocks.add(x[0])\n",
    "\n",
    "for x in closedPos:\n",
    "    myStocks.add(x[0])"
   ]
  },
  {
   "cell_type": "code",
   "execution_count": 43,
   "metadata": {},
   "outputs": [
    {
     "name": "stdout",
     "output_type": "stream",
     "text": [
      "{'QCOM', 'AAPL', 'INTC', 'DIS', 'MSFT', 'F'}\n"
     ]
    }
   ],
   "source": [
    "# get an unique of stocks sybmols\n",
    "print(myStocks)"
   ]
  },
  {
   "cell_type": "code",
   "execution_count": null,
   "metadata": {},
   "outputs": [],
   "source": []
  }
 ],
 "metadata": {
  "kernelspec": {
   "display_name": "Python 3",
   "language": "python",
   "name": "python3"
  },
  "language_info": {
   "codemirror_mode": {
    "name": "ipython",
    "version": 3
   },
   "file_extension": ".py",
   "mimetype": "text/x-python",
   "name": "python",
   "nbconvert_exporter": "python",
   "pygments_lexer": "ipython3",
   "version": "3.7.1"
  }
 },
 "nbformat": 4,
 "nbformat_minor": 2
}
